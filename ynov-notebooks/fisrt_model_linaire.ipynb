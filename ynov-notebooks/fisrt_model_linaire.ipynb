{
 "cells": [
  {
   "cell_type": "code",
   "execution_count": 53,
   "metadata": {},
   "outputs": [],
   "source": [
    "def create_new_features(df):\n",
    "    df = df.copy()\n",
    "    # Create derived ratio features\n",
    "    df['rooms_per_household'] = df['total_rooms'] / df['households']\n",
    "    df['bedrooms_per_room'] = df['total_bedrooms'] / df['total_rooms']\n",
    "    df['population_per_household'] = df['population'] / df['households']\n",
    "    df['income_per_person'] = df['median_income'] / df['population']\n",
    "    df['bedrooms_per_household'] = df['total_bedrooms'] / df['households']\n",
    "\n",
    "    # Handle missing values in total_bedrooms\n",
    "    df['total_bedrooms'].fillna(df['total_bedrooms'].median(), inplace=True)\n",
    "    df['missing_bedrooms'] = df['total_bedrooms'].isnull().astype(int)\n",
    "\n",
    "    # Encoder ocean_proximity de manière plus robuste\n",
    "    ocean_categories = ['INLAND', 'NEAR BAY', 'NEAR OCEAN', '<1H OCEAN']\n",
    "    \n",
    "    # Créer une colonne pour chaque catégorie\n",
    "    for category in ocean_categories:\n",
    "        df[f'ocean_proximity_{category}'] = (df['ocean_proximity'] == category).astype(int)\n",
    "    \n",
    "    # Supprimer la colonne originale\n",
    "    df = df.drop('ocean_proximity', axis=1)\n",
    "    \n",
    "    return df"
   ]
  },
  {
   "cell_type": "code",
   "execution_count": 54,
   "metadata": {},
   "outputs": [
    {
     "name": "stdout",
     "output_type": "stream",
     "text": [
      "Coefficients: [-2.91991309e+04 -2.73310382e+04  4.14411131e+04  3.22263012e+03\n",
      "  3.36676677e+05 -2.71133112e+02 -1.69727463e+05 -1.17716262e+05\n",
      " -1.22002084e+05 -1.32284177e+05]\n",
      "Intercept: -2418243.408941365\n"
     ]
    },
    {
     "name": "stderr",
     "output_type": "stream",
     "text": [
      "C:\\Users\\ouchaou\\AppData\\Local\\Temp\\ipykernel_18644\\842269476.py:11: FutureWarning: A value is trying to be set on a copy of a DataFrame or Series through chained assignment using an inplace method.\n",
      "The behavior will change in pandas 3.0. This inplace method will never work because the intermediate object on which we are setting values always behaves as a copy.\n",
      "\n",
      "For example, when doing 'df[col].method(value, inplace=True)', try using 'df.method({col: value}, inplace=True)' or df[col] = df[col].method(value) instead, to perform the operation inplace on the original object.\n",
      "\n",
      "\n",
      "  df['total_bedrooms'].fillna(df['total_bedrooms'].median(), inplace=True)\n",
      "C:\\Users\\ouchaou\\AppData\\Local\\Temp\\ipykernel_18644\\842269476.py:11: FutureWarning: A value is trying to be set on a copy of a DataFrame or Series through chained assignment using an inplace method.\n",
      "The behavior will change in pandas 3.0. This inplace method will never work because the intermediate object on which we are setting values always behaves as a copy.\n",
      "\n",
      "For example, when doing 'df[col].method(value, inplace=True)', try using 'df.method({col: value}, inplace=True)' or df[col] = df[col].method(value) instead, to perform the operation inplace on the original object.\n",
      "\n",
      "\n",
      "  df['total_bedrooms'].fillna(df['total_bedrooms'].median(), inplace=True)\n",
      "C:\\Users\\ouchaou\\AppData\\Local\\Temp\\ipykernel_18644\\842269476.py:11: FutureWarning: A value is trying to be set on a copy of a DataFrame or Series through chained assignment using an inplace method.\n",
      "The behavior will change in pandas 3.0. This inplace method will never work because the intermediate object on which we are setting values always behaves as a copy.\n",
      "\n",
      "For example, when doing 'df[col].method(value, inplace=True)', try using 'df.method({col: value}, inplace=True)' or df[col] = df[col].method(value) instead, to perform the operation inplace on the original object.\n",
      "\n",
      "\n",
      "  df['total_bedrooms'].fillna(df['total_bedrooms'].median(), inplace=True)\n"
     ]
    }
   ],
   "source": [
    "\n",
    "from sklearn.impute import SimpleImputer\n",
    "from sklearn.pipeline import Pipeline\n",
    "from sklearn.metrics import mean_absolute_error, root_mean_squared_error\n",
    "\n",
    "# Charger les données d'entraînement, de validation et de test\n",
    "train_data = pd.read_csv('./ynov-data/train_housing_train.csv')\n",
    "valid_data = pd.read_csv('./ynov-data/train_housing_valid.csv')\n",
    "test_data = pd.read_csv('./ynov-data/test_housing.csv')\n",
    "\n",
    "# Appliquer les transformations\n",
    "train_data = create_new_features(train_data)\n",
    "valid_data = create_new_features(valid_data)\n",
    "test_data = create_new_features(test_data)\n",
    "\n",
    "\n",
    "# Créer un pipeline avec un imputeur et le modèle\n",
    "pipeline = Pipeline(steps=[\n",
    "    ('imputer', SimpleImputer(strategy='mean')),  # Impute les valeurs manquantes avec la moyenne\n",
    "    ('model', LinearRegression())\n",
    "])\n",
    "\n",
    "# Mettre à jour X_train avec les nouvelles colonnes\n",
    "X_train = train_data[[ \n",
    "    'longitude', 'latitude', 'median_income',   \n",
    "    'rooms_per_household', 'bedrooms_per_room',\n",
    "    'population_per_household','ocean_proximity_INLAND',\n",
    "    'ocean_proximity_NEAR BAY', \n",
    "    'ocean_proximity_NEAR OCEAN',\n",
    "    'ocean_proximity_<1H OCEAN'\n",
    "]]\n",
    "y_train = train_data['median_house_value']\n",
    "\n",
    "# Entraîner le modèle avec le pipeline\n",
    "pipeline.fit(X_train, y_train)\n",
    "\n",
    "# Afficher les coefficients du modèle\n",
    "print(\"Coefficients:\", pipeline.named_steps['model'].coef_)\n",
    "print(\"Intercept:\", pipeline.named_steps['model'].intercept_)"
   ]
  },
  {
   "cell_type": "code",
   "execution_count": 55,
   "metadata": {},
   "outputs": [
    {
     "name": "stdout",
     "output_type": "stream",
     "text": [
      "\n",
      "Mean Absolute Error sur les données de validation: 52301.458058159864\n",
      "\n",
      "Root Mean Squared Error sur les données de validation: 72865.63496156107\n"
     ]
    },
    {
     "name": "stderr",
     "output_type": "stream",
     "text": [
      "C:\\Users\\ouchaou\\AppData\\Local\\pypoetry\\Cache\\virtualenvs\\ynov-ix4t_1a0-py3.13\\Lib\\site-packages\\sklearn\\metrics\\_regression.py:492: FutureWarning: 'squared' is deprecated in version 1.4 and will be removed in 1.6. To calculate the root mean squared error, use the function'root_mean_squared_error'.\n",
      "  warnings.warn(\n"
     ]
    }
   ],
   "source": [
    "# Évaluation sur les données de validation\n",
    "X_valid = valid_data[[ \n",
    "    'longitude', 'latitude', 'median_income',   \n",
    "    'rooms_per_household', 'bedrooms_per_room',\n",
    "    'population_per_household','ocean_proximity_INLAND',\n",
    "    'ocean_proximity_NEAR BAY', \n",
    "    'ocean_proximity_NEAR OCEAN',\n",
    "    'ocean_proximity_<1H OCEAN'\n",
    "]]\n",
    "y_valid = valid_data['median_house_value']\n",
    "\n",
    "# Utiliser le pipeline pour faire des prédictions\n",
    "valid_predictions = pipeline.predict(X_valid)  # Utiliser le pipeline pour prédire\n",
    "\n",
    "mae_valid = mean_absolute_error(y_valid, valid_predictions)\n",
    "print(\"\\nMean Absolute Error sur les données de validation:\", mae_valid)\n",
    "rmse_valid = mean_squared_error(y_valid, valid_predictions, squared=False)\n",
    "print(\"\\nRoot Mean Squared Error sur les données de validation:\", rmse_valid)"
   ]
  },
  {
   "cell_type": "code",
   "execution_count": null,
   "metadata": {},
   "outputs": [],
   "source": []
  },
  {
   "cell_type": "code",
   "execution_count": 56,
   "metadata": {},
   "outputs": [
    {
     "name": "stdout",
     "output_type": "stream",
     "text": [
      "\n",
      "Premières prédictions sur les données de test: [313169.81602139 215581.67050806 222079.25201596 207459.04491776\n",
      " 215262.07416024]\n",
      "         id  median_house_value\n",
      "0         3       313169.816021\n",
      "1        10       215581.670508\n",
      "2        11       222079.252016\n",
      "3        12       207459.044918\n",
      "4        13       215262.074160\n",
      "...     ...                 ...\n",
      "8635  20635        24574.314350\n",
      "8636  20636        69221.831168\n",
      "8637  20637        32923.557279\n",
      "8638  20638        44815.746724\n",
      "8639  20639        65787.293890\n",
      "\n",
      "[8640 rows x 2 columns]\n"
     ]
    }
   ],
   "source": [
    "# Prédictions sur les données de test\n",
    "X_test = test_data[[ \n",
    "    'longitude', 'latitude', 'median_income',   \n",
    "    'rooms_per_household', 'bedrooms_per_room',\n",
    "    'population_per_household','ocean_proximity_INLAND',\n",
    "    'ocean_proximity_NEAR BAY', \n",
    "    'ocean_proximity_NEAR OCEAN',\n",
    "    'ocean_proximity_<1H OCEAN'\n",
    "]]\n",
    "\n",
    "# Utiliser pipeline.predict au lieu de model.predict\n",
    "test_predictions = pipeline.predict(X_test)\n",
    "print(\"\\nPremières prédictions sur les données de test:\", test_predictions[:5])\n",
    "\n",
    "# Créer un DataFrame avec les prédictions et les ID pour le fichier de soumission\n",
    "submission = pd.DataFrame({'id': test_data['id'], 'median_house_value': test_predictions})\n",
    "print(submission)\n",
    "\n",
    "# Enregistrer le DataFrame dans un fichier CSV\n",
    "submission.to_csv('./ynov-data/submit.csv', index=False)\n"
   ]
  }
 ],
 "metadata": {
  "kernelspec": {
   "display_name": "Python 3 (ipykernel)",
   "language": "python",
   "name": "python3"
  },
  "language_info": {
   "codemirror_mode": {
    "name": "ipython",
    "version": 3
   },
   "file_extension": ".py",
   "mimetype": "text/x-python",
   "name": "python",
   "nbconvert_exporter": "python",
   "pygments_lexer": "ipython3",
   "version": "3.13.0"
  }
 },
 "nbformat": 4,
 "nbformat_minor": 2
}
